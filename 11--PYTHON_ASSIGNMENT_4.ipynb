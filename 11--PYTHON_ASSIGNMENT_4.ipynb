{
 "cells": [
  {
   "cell_type": "markdown",
   "id": "10bafb56",
   "metadata": {},
   "source": [
    "# 1.1 Write a Python Program(with class concepts) to find the area of the triangle using the below\n",
    "formula.\n",
    "area = (s*(s-a)*(s-b)*(s-c)) ** 0.5\n",
    "\n",
    "Function to take the length of the sides of triangle from user should be defined in the parent\n",
    "class and function to calculate the area should be defined in subclass."
   ]
  },
  {
   "cell_type": "code",
   "execution_count": 1,
   "id": "08dd8267",
   "metadata": {},
   "outputs": [
    {
     "name": "stdout",
     "output_type": "stream",
     "text": [
      "Area of the triangle is  108.000 cm²\n"
     ]
    }
   ],
   "source": [
    "class Triangle:\n",
    "    def __init__(self,a,b,c):\n",
    "        self.a = a\n",
    "        self.b = b\n",
    "        self.c = c\n",
    "        \n",
    "class Area(Triangle):\n",
    "    def area(self, *args):\n",
    "        s = (self.a + self.b +self.c) / 2\n",
    "        area = (s * (s - self.a)*(s-self.b)*(s-self.c))*0.5\n",
    "        print(f\"Area of the triangle is {area : .3f} cm\\u00b2\")\n",
    "        \n",
    "a = Area(5,6,7)\n",
    "a.area()\n",
    "    "
   ]
  },
  {
   "cell_type": "raw",
   "id": "d6716b8a",
   "metadata": {},
   "source": [
    "class Triangle:\n",
    "    def __init__(self,a,b,c):\n",
    "        self.a = float(input(\"Enter input side a: \"))\n",
    "        self.b = float(input(\"Enter input side b: \"))\n",
    "        self.c = float(input(\"Enter input side c: \"))\n",
    "        \n",
    "class Area(Triangle):\n",
    "    def area(self, *args):\n",
    "        s = (self.a + self.b +self.c) / 2\n",
    "        area = (s * (s - self.a)*(s-self.b)*(s-self.c))*0.5\n",
    "        print(f\"Area of the triangle is {area : .3f} cm\\u00b2\")\n",
    "        \n",
    "a = Area(5,6,7)\n",
    "a.area()"
   ]
  },
  {
   "cell_type": "markdown",
   "id": "bb7e6024",
   "metadata": {},
   "source": [
    "# 1.2 Write a function filter_long_words() that takes a list of words and an integer n and returns the list of words that are longer than n."
   ]
  },
  {
   "cell_type": "code",
   "execution_count": 2,
   "id": "fae034c2",
   "metadata": {},
   "outputs": [
    {
     "name": "stdout",
     "output_type": "stream",
     "text": [
      "Longest words are: [' deep learning', 'machine learning']\n"
     ]
    }
   ],
   "source": [
    "def filter_long_words(words,n):\n",
    "    l = list()\n",
    "    for i in words:\n",
    "        if len(i) > n:\n",
    "            l.append(i)\n",
    "    print(f\"Longest words are: {l}\")\n",
    "    \n",
    "lst = [\"hello\", \"world\", \"name\", \"words\", \" deep learning\", \"machine learning\"]   \n",
    "\n",
    "filter_long_words(lst,5)\n",
    "    "
   ]
  },
  {
   "cell_type": "markdown",
   "id": "5c24df8b",
   "metadata": {},
   "source": [
    "# 2.1 Write a Python program using function concept that maps list of words into a list of integers representing the lengths of the corresponding words.\n",
    "Hint: If a list [ ab,cde,erty] is passed on to the python function output should come as [2,3,4] Here 2,3 and 4 are the lengths of the words in the list."
   ]
  },
  {
   "cell_type": "code",
   "execution_count": 3,
   "id": "613e3e05",
   "metadata": {},
   "outputs": [
    {
     "data": {
      "text/plain": [
       "[2, 3, 4]"
      ]
     },
     "execution_count": 3,
     "metadata": {},
     "output_type": "execute_result"
    }
   ],
   "source": [
    "def word_len(words):\n",
    "    return len(words)\n",
    "\n",
    "l= [ 'ab','cde','erty']\n",
    "\n",
    "result = map(word_len, l)\n",
    "\n",
    "list(result)"
   ]
  },
  {
   "cell_type": "markdown",
   "id": "958d867b",
   "metadata": {},
   "source": [
    "# 2.2 Write a Python function which takes a character (i.e. a string of length 1) and returns True if it is a vowel, False otherwise"
   ]
  },
  {
   "cell_type": "code",
   "execution_count": 4,
   "id": "bc0dfbae",
   "metadata": {},
   "outputs": [
    {
     "name": "stdout",
     "output_type": "stream",
     "text": [
      "input your chracter: a\n"
     ]
    },
    {
     "data": {
      "text/plain": [
       "True"
      ]
     },
     "execution_count": 4,
     "metadata": {},
     "output_type": "execute_result"
    }
   ],
   "source": [
    "def vowel_check(char):\n",
    "    if char == \"a\" or char == \"e\" or char == \"i\" or char == \"o\" or char == \"u\":\n",
    "        return True\n",
    "    else:\n",
    "        return False\n",
    "    \n",
    "vowel_check(input(\"input your chracter: \"))    \n",
    "    "
   ]
  },
  {
   "cell_type": "code",
   "execution_count": null,
   "id": "280e3007",
   "metadata": {},
   "outputs": [],
   "source": []
  }
 ],
 "metadata": {
  "kernelspec": {
   "display_name": "Python 3",
   "language": "python",
   "name": "python3"
  },
  "language_info": {
   "codemirror_mode": {
    "name": "ipython",
    "version": 3
   },
   "file_extension": ".py",
   "mimetype": "text/x-python",
   "name": "python",
   "nbconvert_exporter": "python",
   "pygments_lexer": "ipython3",
   "version": "3.8.8"
  }
 },
 "nbformat": 4,
 "nbformat_minor": 5
}
